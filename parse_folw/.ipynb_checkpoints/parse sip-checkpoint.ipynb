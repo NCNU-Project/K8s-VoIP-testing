{
 "cells": [
  {
   "cell_type": "code",
   "execution_count": 1,
   "id": "88c21186",
   "metadata": {},
   "outputs": [
    {
     "name": "stdout",
     "output_type": "stream",
     "text": [
      "/usr/lib/python3/dist-packages/pkg_resources/__init__.py:116: PkgResourcesDeprecationWarning: 1.16.0-unknown is an invalid version and will not be supported in a future release\n",
      "  warnings.warn(\n",
      "/usr/lib/python3/dist-packages/pkg_resources/__init__.py:116: PkgResourcesDeprecationWarning: 1.1build1 is an invalid version and will not be supported in a future release\n",
      "  warnings.warn(\n",
      "/usr/lib/python3/dist-packages/pkg_resources/__init__.py:116: PkgResourcesDeprecationWarning: 0.1.43ubuntu1 is an invalid version and will not be supported in a future release\n",
      "  warnings.warn(\n",
      "\u001b[32m\u001b[1mInstalling scapy...\u001b[0m\n",
      "\u001b[K\u001b[1mAdding\u001b[0m \u001b[32m\u001b[1mscapy\u001b[0m \u001b[1mto Pipfile's\u001b[0m \u001b[33m\u001b[1m[packages]\u001b[0m\u001b[1m...\u001b[0m\n",
      "\u001b[K\u001b[?25h✔ Installation Succeeded\u001b[0m \n",
      "\u001b[33m\u001b[1mPipfile.lock (58b1f9) out of date, updating to (772d79)...\u001b[0m\n",
      "Locking\u001b[0m \u001b[33m[packages]\u001b[0m dependencies...\u001b[0m\n",
      "\u001b[KBuilding requirements...\n",
      "\u001b[KResolving dependencies...\n",
      "\u001b[K\u001b[?25h\u001b[32m\u001b[22m✔ Success!\u001b[39m\u001b[22m\u001b[0m \n",
      "Locking\u001b[0m \u001b[33m[dev-packages]\u001b[0m dependencies...\u001b[0m\n",
      "\u001b[1mUpdated Pipfile.lock (772d79)!\u001b[0m\n",
      "\u001b[1mInstalling dependencies from Pipfile.lock (772d79)...\u001b[0m\n",
      "\u001b[0m"
     ]
    }
   ],
   "source": [
    "!pipenv install scapy"
   ]
  },
  {
   "cell_type": "code",
   "execution_count": 145,
   "id": "e55f44bb",
   "metadata": {},
   "outputs": [],
   "source": [
    "from scapy.all import *\n",
    "#load the pcap\n",
    "BENCH_NO_MEDIA_RELAY=\"bench_without_rtpengine.pcap\"\n",
    "BENCH_WITH_MEDIA_RELAY=\"bench_with_rtpengine.pcap\"\n",
    "without_rtpengine_pcap = rdpcap(BENCH_NO_MEDIA_RELAY)\n",
    "with_rtpengine_pcap = rdpcap(BENCH_WITH_MEDIA_RELAY)"
   ]
  },
  {
   "cell_type": "code",
   "execution_count": 146,
   "id": "c260f631",
   "metadata": {
    "scrolled": true
   },
   "outputs": [],
   "source": [
    "import re"
   ]
  },
  {
   "cell_type": "code",
   "execution_count": 157,
   "id": "d856ed39",
   "metadata": {},
   "outputs": [],
   "source": [
    "def generate_report(pkts):\n",
    "    call_start_time = {}\n",
    "    for pkt in pkts:\n",
    "        if 'INVITE sip:1010@10.22.149.230' in str(pkt):\n",
    "            call_id = re.findall(r\"Call-ID: ([a-zA-Z0-9\\-~]+)\\\\r\\\\n\", str(pkt))[0]\n",
    "            call_start_time[call_id] = pkt.time\n",
    "\n",
    "    call_established_time = {}\n",
    "    for call_id, start_time in call_start_time.items():\n",
    "        for pkt in pkts:\n",
    "            raw_pkt = str(raw(pkt))\n",
    "            if '200 Ok' in raw_pkt and call_id in raw_pkt:\n",
    "                call_established_time[call_id] = pkt.time - call_start_time[call_id]\n",
    "\n",
    "    tmp = 0\n",
    "    for time in call_established_time.values():\n",
    "        tmp += time\n",
    "    print(tmp / len(call_established_time))\n",
    "    return call_established_time\n"
   ]
  },
  {
   "cell_type": "code",
   "execution_count": 158,
   "id": "9dab6ede",
   "metadata": {
    "scrolled": true
   },
   "outputs": [
    {
     "name": "stderr",
     "output_type": "stream",
     "text": [
      "WARNING: Calling str(pkt) on Python 3 makes no sense!\n",
      "WARNING: Calling str(pkt) on Python 3 makes no sense!\n",
      "WARNING: more Calling str(pkt) on Python 3 makes no sense!\n"
     ]
    },
    {
     "name": "stdout",
     "output_type": "stream",
     "text": [
      "2.72781065\n",
      "2.6691412\n"
     ]
    }
   ],
   "source": [
    "without_rtpengine_report = generate_report(without_rtpengine_pcap)\n",
    "with_rtpengine_report = generate_report(with_rtpengine_pcap)\n"
   ]
  },
  {
   "cell_type": "code",
   "execution_count": 138,
   "id": "6ec2eab8",
   "metadata": {},
   "outputs": [
    {
     "data": {
      "text/plain": [
       "20"
      ]
     },
     "execution_count": 138,
     "metadata": {},
     "output_type": "execute_result"
    }
   ],
   "source": [
    "len(without_rtpengine_report)"
   ]
  }
 ],
 "metadata": {
  "kernelspec": {
   "display_name": "Python 3 (ipykernel)",
   "language": "python",
   "name": "python3"
  },
  "language_info": {
   "codemirror_mode": {
    "name": "ipython",
    "version": 3
   },
   "file_extension": ".py",
   "mimetype": "text/x-python",
   "name": "python",
   "nbconvert_exporter": "python",
   "pygments_lexer": "ipython3",
   "version": "3.10.4"
  }
 },
 "nbformat": 4,
 "nbformat_minor": 5
}
